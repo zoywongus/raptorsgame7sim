{
 "cells": [
  {
   "cell_type": "code",
   "execution_count": 4,
   "metadata": {
    "collapsed": true
   },
   "outputs": [],
   "source": [
    "import numpy as np\n",
    "import matplotlib.pyplot as plt\n"
   ]
  },
  {
   "cell_type": "code",
   "execution_count": 5,
   "metadata": {
    "collapsed": true
   },
   "outputs": [],
   "source": [
    "def genscore():\n",
    "    raptors_score = np.random.randint(low=86,high=140) #raptors offense range\n",
    "    warriors_score = np.random.randint(low=86, high=149) #warriors offense range\n",
    "    return raptors_score, warriors_score"
   ]
  },
  {
   "cell_type": "code",
   "execution_count": 6,
   "metadata": {
    "collapsed": true
   },
   "outputs": [],
   "source": [
    "def genoppscore():\n",
    "    torontoopp = np.random.randint(low=83,high=138) #range raptors defense\n",
    "    warriorsopp = np.random.randint(low=88,high=140) #range warrriors offense\n",
    "    return torontoopp, warriorsopp"
   ]
  },
  {
   "cell_type": "code",
   "execution_count": 7,
   "metadata": {
    "collapsed": true
   },
   "outputs": [],
   "source": [
    "def getgame7score():\n",
    "    rscore, wscore = genscore()\n",
    "    rscore2, wscore2 = genoppscore()\n",
    "    raptors = (rscore + rscore2)/2\n",
    "    warriors = (wscore+wscore2)/2\n",
    "    return raptors, warriors"
   ]
  },
  {
   "cell_type": "code",
   "execution_count": 14,
   "metadata": {},
   "outputs": [],
   "source": [
    "def main():\n",
    "    GAMESSIM = 100\n",
    "    r = []\n",
    "    w = []\n",
    "    rwins = 0\n",
    "    rtotal = 0\n",
    "    wtotal = 0\n",
    "    for i in range(GAMESSIM):\n",
    "        x, y = getgame7score() #x is raptors\n",
    "        rtotal += x\n",
    "        wtotal += y\n",
    "        r.append(x)\n",
    "        w.append(y)\n",
    "        if x > y:\n",
    "            rwins += 1\n",
    "    plt.scatter(r,w)\n",
    "    plt.xlabel('Raptors Score', fontsize=18)\n",
    "    plt.ylabel('Warriors Score', fontsize=16)\n",
    "    plt.show()\n",
    "    print(\"In this simulation, Raptors win \" + str(rwins) + \"% of the time.\")\n",
    "    print(\"The raptors score an average of \" + str(rtotal/100) + \" points and the warriors score an average \" + str(wtotal/100) + \" points!\")"
   ]
  },
  {
   "cell_type": "code",
   "execution_count": 15,
   "metadata": {},
   "outputs": [
    {
     "data": {
      "image/png": "[encoded data removed]",
      "text/plain": [
       "<matplotlib.figure.Figure at 0x1130e26a0>"
      ]
     },
     "metadata": {},
     "output_type": "display_data"
    },
    {
     "name": "stdout",
     "output_type": "stream",
     "text": [
      "In this simulation, Raptors win 36% of the time.\n",
      "The raptors score an average of 109.865 points and the warriors score an average 115.71 points!\n"
     ]
    }
   ],
   "source": [
    "#This is based off of regular season statistics\n",
    "main()"
   ]
  },
  {
   "cell_type": "code",
   "execution_count": null,
   "metadata": {
    "collapsed": true
   },
   "outputs": [],
   "source": []
  }
 ],
 "metadata": {
  "kernelspec": {
   "display_name": "Python 3",
   "language": "python",
   "name": "python3"
  },
  "language_info": {
   "codemirror_mode": {
    "name": "ipython",
    "version": 3
   },
   "file_extension": ".py",
   "mimetype": "text/x-python",
   "name": "python",
   "nbconvert_exporter": "python",
   "pygments_lexer": "ipython3",
   "version": "3.6.3"
  }
 },
 "nbformat": 4,
 "nbformat_minor": 2
}
